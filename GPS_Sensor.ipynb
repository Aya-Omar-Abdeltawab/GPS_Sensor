{
 "cells": [
  {
   "cell_type": "code",
   "execution_count": 2,
   "metadata": {
    "colab": {
     "base_uri": "https://localhost:8080/",
     "height": 733
    },
    "executionInfo": {
     "elapsed": 254,
     "status": "ok",
     "timestamp": 1735061695419,
     "user": {
      "displayName": "aya omar",
      "userId": "12827876234680788948"
     },
     "user_tz": -120
    },
    "id": "NnuwtW0bu3SL",
    "outputId": "27961606-e0a2-419d-c082-4c5ae8b7ec4c"
   },
   "outputs": [
    {
     "data": {
      "application/vnd.plotly.v1+json": {
       "config": {
        "plotlyServerURL": "https://plot.ly"
       },
       "data": [
        {
         "hovertemplate": "Frequency: %{y}<br>Reading Range: %{x}",
         "marker": {
          "color": "blue",
          "line": {
           "color": "green",
           "width": 1
          }
         },
         "name": "Histogram",
         "nbinsx": 10,
         "opacity": 0.75,
         "type": "histogram",
         "x": [
          51.242,
          49.654,
          51.619,
          53.808,
          49.415,
          49.415,
          53.948,
          51.919,
          48.826,
          51.356,
          48.841,
          48.836,
          50.605,
          45.217,
          45.688,
          48.594,
          47.468,
          50.786,
          47.73,
          46.469,
          53.664,
          49.436,
          50.169,
          46.438,
          48.639,
          50.277,
          47.123,
          50.939,
          48.498,
          49.271,
          48.496,
          54.631,
          49.966,
          47.356,
          52.056,
          46.948,
          50.522,
          45.101,
          46.68,
          50.492,
          51.846,
          50.428,
          49.711,
          49.247,
          46.304,
          48.2,
          48.848,
          52.643,
          50.859,
          45.592,
          50.81,
          49.037,
          48.308,
          51.529,
          52.577,
          52.328,
          47.902,
          49.227,
          50.828,
          52.439,
          48.802,
          49.536,
          47.234,
          47.009,
          52.031,
          53.391,
          49.82,
          52.509,
          50.904,
          48.387,
          50.903,
          53.845,
          49.91,
          53.912,
          43.451,
          52.055,
          50.218,
          49.252,
          50.229,
          45.031,
          49.451,
          50.893,
          53.695,
          48.704,
          47.979,
          48.746,
          52.289,
          50.822,
          48.676,
          51.283,
          50.243,
          52.422,
          48.245,
          49.181,
          49.02,
          46.341,
          50.74,
          50.653,
          50.013,
          49.414
         ]
        },
        {
         "hovertemplate": "Mean Value: %{x}",
         "line": {
          "color": "red",
          "dash": "dash"
         },
         "mode": "lines",
         "name": "Mean",
         "type": "scatter",
         "x": [
          50,
          50
         ],
         "y": [
          0,
          15
         ]
        }
       ],
       "layout": {
        "legend": {
         "x": 0.8,
         "y": 0.95
        },
        "template": {
         "data": {
          "bar": [
           {
            "error_x": {
             "color": "#2a3f5f"
            },
            "error_y": {
             "color": "#2a3f5f"
            },
            "marker": {
             "line": {
              "color": "white",
              "width": 0.5
             },
             "pattern": {
              "fillmode": "overlay",
              "size": 10,
              "solidity": 0.2
             }
            },
            "type": "bar"
           }
          ],
          "barpolar": [
           {
            "marker": {
             "line": {
              "color": "white",
              "width": 0.5
             },
             "pattern": {
              "fillmode": "overlay",
              "size": 10,
              "solidity": 0.2
             }
            },
            "type": "barpolar"
           }
          ],
          "carpet": [
           {
            "aaxis": {
             "endlinecolor": "#2a3f5f",
             "gridcolor": "#C8D4E3",
             "linecolor": "#C8D4E3",
             "minorgridcolor": "#C8D4E3",
             "startlinecolor": "#2a3f5f"
            },
            "baxis": {
             "endlinecolor": "#2a3f5f",
             "gridcolor": "#C8D4E3",
             "linecolor": "#C8D4E3",
             "minorgridcolor": "#C8D4E3",
             "startlinecolor": "#2a3f5f"
            },
            "type": "carpet"
           }
          ],
          "choropleth": [
           {
            "colorbar": {
             "outlinewidth": 0,
             "ticks": ""
            },
            "type": "choropleth"
           }
          ],
          "contour": [
           {
            "colorbar": {
             "outlinewidth": 0,
             "ticks": ""
            },
            "colorscale": [
             [
              0,
              "#0d0887"
             ],
             [
              0.1111111111111111,
              "#46039f"
             ],
             [
              0.2222222222222222,
              "#7201a8"
             ],
             [
              0.3333333333333333,
              "#9c179e"
             ],
             [
              0.4444444444444444,
              "#bd3786"
             ],
             [
              0.5555555555555556,
              "#d8576b"
             ],
             [
              0.6666666666666666,
              "#ed7953"
             ],
             [
              0.7777777777777778,
              "#fb9f3a"
             ],
             [
              0.8888888888888888,
              "#fdca26"
             ],
             [
              1,
              "#f0f921"
             ]
            ],
            "type": "contour"
           }
          ],
          "contourcarpet": [
           {
            "colorbar": {
             "outlinewidth": 0,
             "ticks": ""
            },
            "type": "contourcarpet"
           }
          ],
          "heatmap": [
           {
            "colorbar": {
             "outlinewidth": 0,
             "ticks": ""
            },
            "colorscale": [
             [
              0,
              "#0d0887"
             ],
             [
              0.1111111111111111,
              "#46039f"
             ],
             [
              0.2222222222222222,
              "#7201a8"
             ],
             [
              0.3333333333333333,
              "#9c179e"
             ],
             [
              0.4444444444444444,
              "#bd3786"
             ],
             [
              0.5555555555555556,
              "#d8576b"
             ],
             [
              0.6666666666666666,
              "#ed7953"
             ],
             [
              0.7777777777777778,
              "#fb9f3a"
             ],
             [
              0.8888888888888888,
              "#fdca26"
             ],
             [
              1,
              "#f0f921"
             ]
            ],
            "type": "heatmap"
           }
          ],
          "heatmapgl": [
           {
            "colorbar": {
             "outlinewidth": 0,
             "ticks": ""
            },
            "colorscale": [
             [
              0,
              "#0d0887"
             ],
             [
              0.1111111111111111,
              "#46039f"
             ],
             [
              0.2222222222222222,
              "#7201a8"
             ],
             [
              0.3333333333333333,
              "#9c179e"
             ],
             [
              0.4444444444444444,
              "#bd3786"
             ],
             [
              0.5555555555555556,
              "#d8576b"
             ],
             [
              0.6666666666666666,
              "#ed7953"
             ],
             [
              0.7777777777777778,
              "#fb9f3a"
             ],
             [
              0.8888888888888888,
              "#fdca26"
             ],
             [
              1,
              "#f0f921"
             ]
            ],
            "type": "heatmapgl"
           }
          ],
          "histogram": [
           {
            "marker": {
             "pattern": {
              "fillmode": "overlay",
              "size": 10,
              "solidity": 0.2
             }
            },
            "type": "histogram"
           }
          ],
          "histogram2d": [
           {
            "colorbar": {
             "outlinewidth": 0,
             "ticks": ""
            },
            "colorscale": [
             [
              0,
              "#0d0887"
             ],
             [
              0.1111111111111111,
              "#46039f"
             ],
             [
              0.2222222222222222,
              "#7201a8"
             ],
             [
              0.3333333333333333,
              "#9c179e"
             ],
             [
              0.4444444444444444,
              "#bd3786"
             ],
             [
              0.5555555555555556,
              "#d8576b"
             ],
             [
              0.6666666666666666,
              "#ed7953"
             ],
             [
              0.7777777777777778,
              "#fb9f3a"
             ],
             [
              0.8888888888888888,
              "#fdca26"
             ],
             [
              1,
              "#f0f921"
             ]
            ],
            "type": "histogram2d"
           }
          ],
          "histogram2dcontour": [
           {
            "colorbar": {
             "outlinewidth": 0,
             "ticks": ""
            },
            "colorscale": [
             [
              0,
              "#0d0887"
             ],
             [
              0.1111111111111111,
              "#46039f"
             ],
             [
              0.2222222222222222,
              "#7201a8"
             ],
             [
              0.3333333333333333,
              "#9c179e"
             ],
             [
              0.4444444444444444,
              "#bd3786"
             ],
             [
              0.5555555555555556,
              "#d8576b"
             ],
             [
              0.6666666666666666,
              "#ed7953"
             ],
             [
              0.7777777777777778,
              "#fb9f3a"
             ],
             [
              0.8888888888888888,
              "#fdca26"
             ],
             [
              1,
              "#f0f921"
             ]
            ],
            "type": "histogram2dcontour"
           }
          ],
          "mesh3d": [
           {
            "colorbar": {
             "outlinewidth": 0,
             "ticks": ""
            },
            "type": "mesh3d"
           }
          ],
          "parcoords": [
           {
            "line": {
             "colorbar": {
              "outlinewidth": 0,
              "ticks": ""
             }
            },
            "type": "parcoords"
           }
          ],
          "pie": [
           {
            "automargin": true,
            "type": "pie"
           }
          ],
          "scatter": [
           {
            "fillpattern": {
             "fillmode": "overlay",
             "size": 10,
             "solidity": 0.2
            },
            "type": "scatter"
           }
          ],
          "scatter3d": [
           {
            "line": {
             "colorbar": {
              "outlinewidth": 0,
              "ticks": ""
             }
            },
            "marker": {
             "colorbar": {
              "outlinewidth": 0,
              "ticks": ""
             }
            },
            "type": "scatter3d"
           }
          ],
          "scattercarpet": [
           {
            "marker": {
             "colorbar": {
              "outlinewidth": 0,
              "ticks": ""
             }
            },
            "type": "scattercarpet"
           }
          ],
          "scattergeo": [
           {
            "marker": {
             "colorbar": {
              "outlinewidth": 0,
              "ticks": ""
             }
            },
            "type": "scattergeo"
           }
          ],
          "scattergl": [
           {
            "marker": {
             "colorbar": {
              "outlinewidth": 0,
              "ticks": ""
             }
            },
            "type": "scattergl"
           }
          ],
          "scattermapbox": [
           {
            "marker": {
             "colorbar": {
              "outlinewidth": 0,
              "ticks": ""
             }
            },
            "type": "scattermapbox"
           }
          ],
          "scatterpolar": [
           {
            "marker": {
             "colorbar": {
              "outlinewidth": 0,
              "ticks": ""
             }
            },
            "type": "scatterpolar"
           }
          ],
          "scatterpolargl": [
           {
            "marker": {
             "colorbar": {
              "outlinewidth": 0,
              "ticks": ""
             }
            },
            "type": "scatterpolargl"
           }
          ],
          "scatterternary": [
           {
            "marker": {
             "colorbar": {
              "outlinewidth": 0,
              "ticks": ""
             }
            },
            "type": "scatterternary"
           }
          ],
          "surface": [
           {
            "colorbar": {
             "outlinewidth": 0,
             "ticks": ""
            },
            "colorscale": [
             [
              0,
              "#0d0887"
             ],
             [
              0.1111111111111111,
              "#46039f"
             ],
             [
              0.2222222222222222,
              "#7201a8"
             ],
             [
              0.3333333333333333,
              "#9c179e"
             ],
             [
              0.4444444444444444,
              "#bd3786"
             ],
             [
              0.5555555555555556,
              "#d8576b"
             ],
             [
              0.6666666666666666,
              "#ed7953"
             ],
             [
              0.7777777777777778,
              "#fb9f3a"
             ],
             [
              0.8888888888888888,
              "#fdca26"
             ],
             [
              1,
              "#f0f921"
             ]
            ],
            "type": "surface"
           }
          ],
          "table": [
           {
            "cells": {
             "fill": {
              "color": "#EBF0F8"
             },
             "line": {
              "color": "white"
             }
            },
            "header": {
             "fill": {
              "color": "#C8D4E3"
             },
             "line": {
              "color": "white"
             }
            },
            "type": "table"
           }
          ]
         },
         "layout": {
          "annotationdefaults": {
           "arrowcolor": "#2a3f5f",
           "arrowhead": 0,
           "arrowwidth": 1
          },
          "autotypenumbers": "strict",
          "coloraxis": {
           "colorbar": {
            "outlinewidth": 0,
            "ticks": ""
           }
          },
          "colorscale": {
           "diverging": [
            [
             0,
             "#8e0152"
            ],
            [
             0.1,
             "#c51b7d"
            ],
            [
             0.2,
             "#de77ae"
            ],
            [
             0.3,
             "#f1b6da"
            ],
            [
             0.4,
             "#fde0ef"
            ],
            [
             0.5,
             "#f7f7f7"
            ],
            [
             0.6,
             "#e6f5d0"
            ],
            [
             0.7,
             "#b8e186"
            ],
            [
             0.8,
             "#7fbc41"
            ],
            [
             0.9,
             "#4d9221"
            ],
            [
             1,
             "#276419"
            ]
           ],
           "sequential": [
            [
             0,
             "#0d0887"
            ],
            [
             0.1111111111111111,
             "#46039f"
            ],
            [
             0.2222222222222222,
             "#7201a8"
            ],
            [
             0.3333333333333333,
             "#9c179e"
            ],
            [
             0.4444444444444444,
             "#bd3786"
            ],
            [
             0.5555555555555556,
             "#d8576b"
            ],
            [
             0.6666666666666666,
             "#ed7953"
            ],
            [
             0.7777777777777778,
             "#fb9f3a"
            ],
            [
             0.8888888888888888,
             "#fdca26"
            ],
            [
             1,
             "#f0f921"
            ]
           ],
           "sequentialminus": [
            [
             0,
             "#0d0887"
            ],
            [
             0.1111111111111111,
             "#46039f"
            ],
            [
             0.2222222222222222,
             "#7201a8"
            ],
            [
             0.3333333333333333,
             "#9c179e"
            ],
            [
             0.4444444444444444,
             "#bd3786"
            ],
            [
             0.5555555555555556,
             "#d8576b"
            ],
            [
             0.6666666666666666,
             "#ed7953"
            ],
            [
             0.7777777777777778,
             "#fb9f3a"
            ],
            [
             0.8888888888888888,
             "#fdca26"
            ],
            [
             1,
             "#f0f921"
            ]
           ]
          },
          "colorway": [
           "#636efa",
           "#EF553B",
           "#00cc96",
           "#ab63fa",
           "#FFA15A",
           "#19d3f3",
           "#FF6692",
           "#B6E880",
           "#FF97FF",
           "#FECB52"
          ],
          "font": {
           "color": "#2a3f5f"
          },
          "geo": {
           "bgcolor": "white",
           "lakecolor": "white",
           "landcolor": "white",
           "showlakes": true,
           "showland": true,
           "subunitcolor": "#C8D4E3"
          },
          "hoverlabel": {
           "align": "left"
          },
          "hovermode": "closest",
          "mapbox": {
           "style": "light"
          },
          "paper_bgcolor": "white",
          "plot_bgcolor": "white",
          "polar": {
           "angularaxis": {
            "gridcolor": "#EBF0F8",
            "linecolor": "#EBF0F8",
            "ticks": ""
           },
           "bgcolor": "white",
           "radialaxis": {
            "gridcolor": "#EBF0F8",
            "linecolor": "#EBF0F8",
            "ticks": ""
           }
          },
          "scene": {
           "xaxis": {
            "backgroundcolor": "white",
            "gridcolor": "#DFE8F3",
            "gridwidth": 2,
            "linecolor": "#EBF0F8",
            "showbackground": true,
            "ticks": "",
            "zerolinecolor": "#EBF0F8"
           },
           "yaxis": {
            "backgroundcolor": "white",
            "gridcolor": "#DFE8F3",
            "gridwidth": 2,
            "linecolor": "#EBF0F8",
            "showbackground": true,
            "ticks": "",
            "zerolinecolor": "#EBF0F8"
           },
           "zaxis": {
            "backgroundcolor": "white",
            "gridcolor": "#DFE8F3",
            "gridwidth": 2,
            "linecolor": "#EBF0F8",
            "showbackground": true,
            "ticks": "",
            "zerolinecolor": "#EBF0F8"
           }
          },
          "shapedefaults": {
           "line": {
            "color": "#2a3f5f"
           }
          },
          "ternary": {
           "aaxis": {
            "gridcolor": "#DFE8F3",
            "linecolor": "#A2B1C6",
            "ticks": ""
           },
           "baxis": {
            "gridcolor": "#DFE8F3",
            "linecolor": "#A2B1C6",
            "ticks": ""
           },
           "bgcolor": "white",
           "caxis": {
            "gridcolor": "#DFE8F3",
            "linecolor": "#A2B1C6",
            "ticks": ""
           }
          },
          "title": {
           "x": 0.05
          },
          "xaxis": {
           "automargin": true,
           "gridcolor": "#EBF0F8",
           "linecolor": "#EBF0F8",
           "ticks": "",
           "title": {
            "standoff": 15
           },
           "zerolinecolor": "#EBF0F8",
           "zerolinewidth": 2
          },
          "yaxis": {
           "automargin": true,
           "gridcolor": "#EBF0F8",
           "linecolor": "#EBF0F8",
           "ticks": "",
           "title": {
            "standoff": 15
           },
           "zerolinecolor": "#EBF0F8",
           "zerolinewidth": 2
          }
         }
        },
        "title": {
         "text": "Interactive Simulated GPS Sensor Readings"
        },
        "updatemenus": [
         {
          "buttons": [
           {
            "args": [
             "visible",
             [
              true,
              true
             ]
            ],
            "label": "Show All",
            "method": "restyle"
           },
           {
            "args": [
             "visible",
             [
              true,
              false
             ]
            ],
            "label": "Histogram Only",
            "method": "restyle"
           },
           {
            "args": [
             "visible",
             [
              false,
              true
             ]
            ],
            "label": "Mean Line Only",
            "method": "restyle"
           }
          ],
          "direction": "down",
          "showactive": true
         }
        ],
        "xaxis": {
         "title": {
          "text": "GPS Reading (e.g., coordinates)"
         }
        },
        "yaxis": {
         "title": {
          "text": "Frequency"
         }
        }
       }
      }
     },
     "metadata": {},
     "output_type": "display_data"
    },
    {
     "name": "stdout",
     "output_type": "stream",
     "text": [
      "Simulated GPS Sensor Readings:\n",
      "[51.242 49.654 51.619 53.808 49.415 49.415 53.948 51.919 48.826 51.356\n",
      " 48.841 48.836 50.605 45.217 45.688 48.594 47.468 50.786 47.73  46.469\n",
      " 53.664 49.436 50.169 46.438 48.639 50.277 47.123 50.939 48.498 49.271\n",
      " 48.496 54.631 49.966 47.356 52.056 46.948 50.522 45.101 46.68  50.492\n",
      " 51.846 50.428 49.711 49.247 46.304 48.2   48.848 52.643 50.859 45.592\n",
      " 50.81  49.037 48.308 51.529 52.577 52.328 47.902 49.227 50.828 52.439\n",
      " 48.802 49.536 47.234 47.009 52.031 53.391 49.82  52.509 50.904 48.387\n",
      " 50.903 53.845 49.91  53.912 43.451 52.055 50.218 49.252 50.229 45.031\n",
      " 49.451 50.893 53.695 48.704 47.979 48.746 52.289 50.822 48.676 51.283\n",
      " 50.243 52.422 48.245 49.181 49.02  46.341 50.74  50.653 50.013 49.414]\n"
     ]
    }
   ],
   "source": [
    "import numpy as np\n",
    "import plotly.graph_objects as go\n",
    "\n",
    "# Seed for reproducibility\n",
    "np.random.seed(42)\n",
    "\n",
    "# Parameters for GPS sensor readings\n",
    "MeanGPSReading = 50.0  # Example mean location coordinate, could represent latitude/longitude\n",
    "GPSStandardDeviation = 2.5  # Standard deviation for GPS measurement variability\n",
    "NumberOfReadings = 100  # Number of simulated readings\n",
    "\n",
    "# Generate simulated GPS sensor readings\n",
    "GPSReadings = np.round(np.random.normal(MeanGPSReading, GPSStandardDeviation, NumberOfReadings), 3)\n",
    "\n",
    "# Create the figure\n",
    "fig = go.Figure()\n",
    "\n",
    "# Add histogram for GPS readings\n",
    "fig.add_trace(go.Histogram(\n",
    "    x=GPSReadings,\n",
    "    nbinsx=10,\n",
    "    marker=dict(color='blue', line=dict(color='green', width=1)),\n",
    "    opacity=0.75,\n",
    "    name='Histogram',\n",
    "    hovertemplate='Frequency: %{y}<br>Reading Range: %{x}'\n",
    "))\n",
    "\n",
    "# Add a line for the mean\n",
    "fig.add_trace(go.Scatter(\n",
    "    x=[MeanGPSReading, MeanGPSReading],\n",
    "    y=[0, 15],  # Adjust the height of the line based on histogram\n",
    "    mode='lines',\n",
    "    name='Mean',\n",
    "    line=dict(color='red', dash='dash'),\n",
    "    hovertemplate='Mean Value: %{x}'\n",
    "))\n",
    "\n",
    "# Add interactivity: Dropdown to toggle visibility\n",
    "fig.update_layout(\n",
    "    updatemenus=[\n",
    "        dict(\n",
    "            buttons=[\n",
    "                dict(\n",
    "                    args=[\"visible\", [True, True]],  # Show both histogram and mean line\n",
    "                    label=\"Show All\",\n",
    "                    method=\"restyle\"\n",
    "                ),\n",
    "                dict(\n",
    "                    args=[\"visible\", [True, False]],  # Show only histogram\n",
    "                    label=\"Histogram Only\",\n",
    "                    method=\"restyle\"\n",
    "                ),\n",
    "                dict(\n",
    "                    args=[\"visible\", [False, True]],  # Show only mean line\n",
    "                    label=\"Mean Line Only\",\n",
    "                    method=\"restyle\"\n",
    "                ),\n",
    "            ],\n",
    "            direction=\"down\",\n",
    "            showactive=True,\n",
    "        )\n",
    "    ]\n",
    ")\n",
    "\n",
    "# Customize the layout\n",
    "fig.update_layout(\n",
    "    title=\"Interactive Simulated GPS Sensor Readings\",\n",
    "    xaxis_title=\"GPS Reading (e.g., coordinates)\",\n",
    "    yaxis_title=\"Frequency\",\n",
    "    template=\"plotly_white\",\n",
    "    legend=dict(x=0.8, y=0.95)\n",
    ")\n",
    "\n",
    "# Show the interactive plot\n",
    "fig.show()\n",
    "\n",
    "# Display simulated readings\n",
    "print(\"Simulated GPS Sensor Readings:\")\n",
    "print(GPSReadings)\n"
   ]
  },
  {
   "cell_type": "code",
   "execution_count": 5,
   "metadata": {},
   "outputs": [
    {
     "data": {
      "application/vnd.plotly.v1+json": {
       "config": {
        "plotlyServerURL": "https://plot.ly"
       },
       "data": [
        {
         "hovertemplate": "Latitude (degrees)=%{x}<br>Longitude (degrees)=%{y}<br>Altitude (meters)=%{z}<br>color=%{marker.color}<extra></extra>",
         "legendgroup": "",
         "marker": {
          "color": [
           4.17,
           4.44,
           5.75,
           5.61,
           4.98,
           5.12,
           6.28,
           4.41,
           5.55,
           4.8,
           4.78,
           6.1,
           5.83,
           5.81,
           6.31,
           5.02,
           5.68,
           4.69,
           5.32,
           4.87,
           5.1,
           5.6,
           4.18,
           7.09,
           3.99,
           3.79,
           6.16,
           5.79,
           5.62,
           5.63,
           4.99,
           4.1,
           5.08,
           4.32,
           5.98,
           4.85,
           4.17,
           4.68,
           5.41,
           4.44,
           4.18,
           5.24,
           5.24,
           4.49,
           4.53,
           5.23,
           3.55,
           3.59,
           4.28,
           4.79,
           5.31,
           6.48,
           5.86,
           4.84,
           4.98,
           4,
           4.98,
           4.71,
           5.32,
           4.17,
           5.52,
           6.53,
           4.89,
           5.4,
           5.69,
           4.6,
           5.22,
           5.01,
           5.1,
           4.23,
           5.02,
           5.5,
           6.45,
           5.96,
           7.15,
           4.23,
           5.87,
           5.18,
           7.19,
           4.19,
           4.16,
           4.4,
           2.88,
           4.47,
           4.24,
           5.15,
           5.34,
           6.88,
           5.95,
           4.42,
           4.1,
           5.49,
           3.68,
           6.83,
           6.18,
           4.53,
           3.29,
           6.35,
           4.89,
           6.24,
           3.41,
           4.4,
           5.01,
           5.05,
           4.55,
           5.62,
           3.93,
           4.86,
           5.12,
           5.51,
           5.71,
           3.88,
           3.47,
           6.28,
           5.33,
           4.25,
           6.55,
           5.12,
           6.18,
           5.07,
           7.06,
           6.76,
           4.75,
           5.97,
           5.65,
           6.37,
           4.04,
           5.69,
           6.06,
           3.24,
           3.82,
           2.96,
           4.73,
           5.72,
           6.5,
           5.07,
           6.63,
           3.62,
           3.3,
           4.94,
           5.38,
           4.97,
           2.93,
           4.91,
           3.7,
           5.67,
           5.37,
           4.06,
           4.49,
           3.94
          ],
          "coloraxis": "coloraxis",
          "size": 5,
          "symbol": "circle"
         },
         "mode": "markers",
         "name": "",
         "scene": "scene",
         "showlegend": false,
         "type": "scatter3d",
         "x": [
          37.775148,
          37.774831,
          37.775224,
          37.775662,
          37.774783,
          37.774783,
          37.77569,
          37.775284,
          37.774665,
          37.775171,
          37.774668,
          37.774667,
          37.775021,
          37.773943,
          37.774038,
          37.774619,
          37.774394,
          37.775057,
          37.774446,
          37.774194,
          37.775633,
          37.774787,
          37.774934,
          37.774188,
          37.774628,
          37.774955,
          37.774325,
          37.775088,
          37.7746,
          37.774754,
          37.774599,
          37.775826,
          37.774893,
          37.774371,
          37.775311,
          37.77429,
          37.775004,
          37.77392,
          37.774236,
          37.774998,
          37.775269,
          37.774986,
          37.774842,
          37.774749,
          37.774161,
          37.77454,
          37.77467,
          37.775429,
          37.775072,
          37.774018,
          37.775062,
          37.774707,
          37.774562,
          37.775206,
          37.775415,
          37.775366,
          37.77448,
          37.774745,
          37.775066,
          37.775388,
          37.77466,
          37.774807,
          37.774347,
          37.774302,
          37.775306,
          37.775578,
          37.774864,
          37.775402,
          37.775081,
          37.774577,
          37.775081,
          37.775669,
          37.774882,
          37.775682,
          37.773900000000005,
          37.775311,
          37.774944,
          37.77475,
          37.774946,
          37.773906,
          37.77479,
          37.775079,
          37.775639,
          37.774641,
          37.774496,
          37.774649,
          37.775358,
          37.775064,
          37.774635,
          37.775157,
          37.774949,
          37.775384,
          37.774549,
          37.774736,
          37.774704,
          37.774168,
          37.775048,
          37.775031,
          37.774903,
          37.774783,
          37.774192,
          37.77469,
          37.774729,
          37.774499,
          37.774819,
          37.775102,
          37.775843,
          37.774987,
          37.775029,
          37.774863,
          37.773941,
          37.774887,
          37.77493,
          37.7759,
          37.774804,
          37.775051,
          37.774883,
          37.774316,
          37.775471,
          37.775276,
          37.775296,
          37.774445,
          37.775601,
          37.774199,
          37.775193,
          37.7759,
          37.774405,
          37.774617,
          37.77495,
          37.774648,
          37.774125,
          37.774934,
          37.774369,
          37.775137,
          37.77444,
          37.775675,
          37.774508,
          37.774739,
          37.775307,
          37.774285,
          37.775014,
          37.775554,
          37.774096,
          37.774992,
          37.77503,
          37.775291,
          37.774282,
          37.77424,
          37.775161,
          37.775048
         ],
         "y": [
          -122.419275,
          -122.419227,
          -122.41974,
          -122.419284,
          -122.419253,
          -122.419757,
          -122.418467,
          -122.419163,
          -122.419996,
          -122.419072,
          -122.419887,
          -122.419006,
          -122.418821,
          -122.41981,
          -122.418918,
          -122.419194,
          -122.418989,
          -122.418452,
          -122.419523,
          -122.419777,
          -122.419845,
          -122.419808,
          -122.419439,
          -122.419229,
          -122.419262,
          -122.418986,
          -122.419393,
          -122.418673,
          -122.419532,
          -122.41839999999999,
          -122.419087,
          -122.419829,
          -122.419935,
          -122.419159,
          -122.419512,
          -122.419043,
          -122.419163,
          -122.419436,
          -122.419823,
          -122.420157,
          -122.419623,
          -122.418972,
          -122.419293,
          -122.420023,
          -122.419313,
          -122.419207,
          -122.419842,
          -122.419323,
          -122.419371,
          -122.419971,
          -122.419221,
          -122.41912,
          -122.418858,
          -122.418873,
          -122.420089,
          -122.419869,
          -122.419142,
          -122.419143,
          -122.419142,
          -122.41839999999999,
          -122.419115,
          -122.418832,
          -122.418923,
          -122.419074,
          -122.419558,
          -122.419021,
          -122.419786,
          -122.419518,
          -122.419643,
          -122.419359,
          -122.41839999999999,
          -122.420334,
          -122.419057,
          -122.420206,
          -122.419636,
          -122.418856,
          -122.419368,
          -122.419939,
          -122.419758,
          -122.41906,
          -122.419765,
          -122.419292,
          -122.419377,
          -122.419726,
          -122.41839999999999,
          -122.419083,
          -122.4204,
          -122.419307,
          -122.419731,
          -122.418974,
          -122.419796,
          -122.419457,
          -122.419148,
          -122.418967,
          -122.42,
          -122.419567,
          -122.419637,
          -122.419727,
          -122.418517,
          -122.419198,
          -122.42003,
          -122.418941,
          -122.41839999999999,
          -122.418884,
          -122.42016,
          -122.419642,
          -122.418767,
          -122.419754,
          -122.419178,
          -122.419013,
          -122.419863,
          -122.41943,
          -122.4204,
          -122.419912,
          -122.419526,
          -122.420024,
          -122.418584,
          -122.420115,
          -122.41962,
          -122.419335,
          -122.418679,
          -122.420118,
          -122.418818,
          -122.419395,
          -122.419891,
          -122.419169,
          -122.4193,
          -122.4197,
          -122.419365,
          -122.419593,
          -122.419343,
          -122.419069,
          -122.418607,
          -122.420019,
          -122.41839999999999,
          -122.420376,
          -122.419476,
          -122.419106,
          -122.41926,
          -122.419711,
          -122.419504,
          -122.419647,
          -122.419695,
          -122.418975,
          -122.419221,
          -122.419746,
          -122.41895,
          -122.419246,
          -122.418994,
          -122.419085
         ],
         "z": [
          4.17,
          4.44,
          5.75,
          5.61,
          4.98,
          5.12,
          6.28,
          4.41,
          5.55,
          4.8,
          4.78,
          6.1,
          5.83,
          5.81,
          6.31,
          5.02,
          5.68,
          4.69,
          5.32,
          4.87,
          5.1,
          5.6,
          4.18,
          7.09,
          3.99,
          3.79,
          6.16,
          5.79,
          5.62,
          5.63,
          4.99,
          4.1,
          5.08,
          4.32,
          5.98,
          4.85,
          4.17,
          4.68,
          5.41,
          4.44,
          4.18,
          5.24,
          5.24,
          4.49,
          4.53,
          5.23,
          3.55,
          3.59,
          4.28,
          4.79,
          5.31,
          6.48,
          5.86,
          4.84,
          4.98,
          4,
          4.98,
          4.71,
          5.32,
          4.17,
          5.52,
          6.53,
          4.89,
          5.4,
          5.69,
          4.6,
          5.22,
          5.01,
          5.1,
          4.23,
          5.02,
          5.5,
          6.45,
          5.96,
          7.15,
          4.23,
          5.87,
          5.18,
          7.19,
          4.19,
          4.16,
          4.4,
          2.88,
          4.47,
          4.24,
          5.15,
          5.34,
          6.88,
          5.95,
          4.42,
          4.1,
          5.49,
          3.68,
          6.83,
          6.18,
          4.53,
          3.29,
          6.35,
          4.89,
          6.24,
          3.41,
          4.4,
          5.01,
          5.05,
          4.55,
          5.62,
          3.93,
          4.86,
          5.12,
          5.51,
          5.71,
          3.88,
          3.47,
          6.28,
          5.33,
          4.25,
          6.55,
          5.12,
          6.18,
          5.07,
          7.06,
          6.76,
          4.75,
          5.97,
          5.65,
          6.37,
          4.04,
          5.69,
          6.06,
          3.24,
          3.82,
          2.96,
          4.73,
          5.72,
          6.5,
          5.07,
          6.63,
          3.62,
          3.3,
          4.94,
          5.38,
          4.97,
          2.93,
          4.91,
          3.7,
          5.67,
          5.37,
          4.06,
          4.49,
          3.94
         ]
        },
        {
         "marker": {
          "color": "red",
          "size": 5,
          "symbol": "diamond"
         },
         "mode": "markers+text",
         "name": "Mean Location",
         "text": [
          "Mean"
         ],
         "textposition": "top center",
         "type": "scatter3d",
         "x": [
          37.7749
         ],
         "y": [
          -122.4194
         ],
         "z": [
          5
         ]
        }
       ],
       "layout": {
        "coloraxis": {
         "colorbar": {
          "title": {
           "text": "color"
          }
         },
         "colorscale": [
          [
           0,
           "#440154"
          ],
          [
           0.1111111111111111,
           "#482878"
          ],
          [
           0.2222222222222222,
           "#3e4989"
          ],
          [
           0.3333333333333333,
           "#31688e"
          ],
          [
           0.4444444444444444,
           "#26828e"
          ],
          [
           0.5555555555555556,
           "#1f9e89"
          ],
          [
           0.6666666666666666,
           "#35b779"
          ],
          [
           0.7777777777777778,
           "#6ece58"
          ],
          [
           0.8888888888888888,
           "#b5de2b"
          ],
          [
           1,
           "#fde725"
          ]
         ]
        },
        "legend": {
         "tracegroupgap": 0
        },
        "scene": {
         "domain": {
          "x": [
           0,
           1
          ],
          "y": [
           0,
           1
          ]
         },
         "xaxis": {
          "title": {
           "text": "Latitude (degrees)"
          }
         },
         "yaxis": {
          "title": {
           "text": "Longitude (degrees)"
          }
         },
         "zaxis": {
          "title": {
           "text": "Altitude (meters)"
          }
         }
        },
        "template": {
         "data": {
          "bar": [
           {
            "error_x": {
             "color": "#2a3f5f"
            },
            "error_y": {
             "color": "#2a3f5f"
            },
            "marker": {
             "line": {
              "color": "#E5ECF6",
              "width": 0.5
             },
             "pattern": {
              "fillmode": "overlay",
              "size": 10,
              "solidity": 0.2
             }
            },
            "type": "bar"
           }
          ],
          "barpolar": [
           {
            "marker": {
             "line": {
              "color": "#E5ECF6",
              "width": 0.5
             },
             "pattern": {
              "fillmode": "overlay",
              "size": 10,
              "solidity": 0.2
             }
            },
            "type": "barpolar"
           }
          ],
          "carpet": [
           {
            "aaxis": {
             "endlinecolor": "#2a3f5f",
             "gridcolor": "white",
             "linecolor": "white",
             "minorgridcolor": "white",
             "startlinecolor": "#2a3f5f"
            },
            "baxis": {
             "endlinecolor": "#2a3f5f",
             "gridcolor": "white",
             "linecolor": "white",
             "minorgridcolor": "white",
             "startlinecolor": "#2a3f5f"
            },
            "type": "carpet"
           }
          ],
          "choropleth": [
           {
            "colorbar": {
             "outlinewidth": 0,
             "ticks": ""
            },
            "type": "choropleth"
           }
          ],
          "contour": [
           {
            "colorbar": {
             "outlinewidth": 0,
             "ticks": ""
            },
            "colorscale": [
             [
              0,
              "#0d0887"
             ],
             [
              0.1111111111111111,
              "#46039f"
             ],
             [
              0.2222222222222222,
              "#7201a8"
             ],
             [
              0.3333333333333333,
              "#9c179e"
             ],
             [
              0.4444444444444444,
              "#bd3786"
             ],
             [
              0.5555555555555556,
              "#d8576b"
             ],
             [
              0.6666666666666666,
              "#ed7953"
             ],
             [
              0.7777777777777778,
              "#fb9f3a"
             ],
             [
              0.8888888888888888,
              "#fdca26"
             ],
             [
              1,
              "#f0f921"
             ]
            ],
            "type": "contour"
           }
          ],
          "contourcarpet": [
           {
            "colorbar": {
             "outlinewidth": 0,
             "ticks": ""
            },
            "type": "contourcarpet"
           }
          ],
          "heatmap": [
           {
            "colorbar": {
             "outlinewidth": 0,
             "ticks": ""
            },
            "colorscale": [
             [
              0,
              "#0d0887"
             ],
             [
              0.1111111111111111,
              "#46039f"
             ],
             [
              0.2222222222222222,
              "#7201a8"
             ],
             [
              0.3333333333333333,
              "#9c179e"
             ],
             [
              0.4444444444444444,
              "#bd3786"
             ],
             [
              0.5555555555555556,
              "#d8576b"
             ],
             [
              0.6666666666666666,
              "#ed7953"
             ],
             [
              0.7777777777777778,
              "#fb9f3a"
             ],
             [
              0.8888888888888888,
              "#fdca26"
             ],
             [
              1,
              "#f0f921"
             ]
            ],
            "type": "heatmap"
           }
          ],
          "heatmapgl": [
           {
            "colorbar": {
             "outlinewidth": 0,
             "ticks": ""
            },
            "colorscale": [
             [
              0,
              "#0d0887"
             ],
             [
              0.1111111111111111,
              "#46039f"
             ],
             [
              0.2222222222222222,
              "#7201a8"
             ],
             [
              0.3333333333333333,
              "#9c179e"
             ],
             [
              0.4444444444444444,
              "#bd3786"
             ],
             [
              0.5555555555555556,
              "#d8576b"
             ],
             [
              0.6666666666666666,
              "#ed7953"
             ],
             [
              0.7777777777777778,
              "#fb9f3a"
             ],
             [
              0.8888888888888888,
              "#fdca26"
             ],
             [
              1,
              "#f0f921"
             ]
            ],
            "type": "heatmapgl"
           }
          ],
          "histogram": [
           {
            "marker": {
             "pattern": {
              "fillmode": "overlay",
              "size": 10,
              "solidity": 0.2
             }
            },
            "type": "histogram"
           }
          ],
          "histogram2d": [
           {
            "colorbar": {
             "outlinewidth": 0,
             "ticks": ""
            },
            "colorscale": [
             [
              0,
              "#0d0887"
             ],
             [
              0.1111111111111111,
              "#46039f"
             ],
             [
              0.2222222222222222,
              "#7201a8"
             ],
             [
              0.3333333333333333,
              "#9c179e"
             ],
             [
              0.4444444444444444,
              "#bd3786"
             ],
             [
              0.5555555555555556,
              "#d8576b"
             ],
             [
              0.6666666666666666,
              "#ed7953"
             ],
             [
              0.7777777777777778,
              "#fb9f3a"
             ],
             [
              0.8888888888888888,
              "#fdca26"
             ],
             [
              1,
              "#f0f921"
             ]
            ],
            "type": "histogram2d"
           }
          ],
          "histogram2dcontour": [
           {
            "colorbar": {
             "outlinewidth": 0,
             "ticks": ""
            },
            "colorscale": [
             [
              0,
              "#0d0887"
             ],
             [
              0.1111111111111111,
              "#46039f"
             ],
             [
              0.2222222222222222,
              "#7201a8"
             ],
             [
              0.3333333333333333,
              "#9c179e"
             ],
             [
              0.4444444444444444,
              "#bd3786"
             ],
             [
              0.5555555555555556,
              "#d8576b"
             ],
             [
              0.6666666666666666,
              "#ed7953"
             ],
             [
              0.7777777777777778,
              "#fb9f3a"
             ],
             [
              0.8888888888888888,
              "#fdca26"
             ],
             [
              1,
              "#f0f921"
             ]
            ],
            "type": "histogram2dcontour"
           }
          ],
          "mesh3d": [
           {
            "colorbar": {
             "outlinewidth": 0,
             "ticks": ""
            },
            "type": "mesh3d"
           }
          ],
          "parcoords": [
           {
            "line": {
             "colorbar": {
              "outlinewidth": 0,
              "ticks": ""
             }
            },
            "type": "parcoords"
           }
          ],
          "pie": [
           {
            "automargin": true,
            "type": "pie"
           }
          ],
          "scatter": [
           {
            "fillpattern": {
             "fillmode": "overlay",
             "size": 10,
             "solidity": 0.2
            },
            "type": "scatter"
           }
          ],
          "scatter3d": [
           {
            "line": {
             "colorbar": {
              "outlinewidth": 0,
              "ticks": ""
             }
            },
            "marker": {
             "colorbar": {
              "outlinewidth": 0,
              "ticks": ""
             }
            },
            "type": "scatter3d"
           }
          ],
          "scattercarpet": [
           {
            "marker": {
             "colorbar": {
              "outlinewidth": 0,
              "ticks": ""
             }
            },
            "type": "scattercarpet"
           }
          ],
          "scattergeo": [
           {
            "marker": {
             "colorbar": {
              "outlinewidth": 0,
              "ticks": ""
             }
            },
            "type": "scattergeo"
           }
          ],
          "scattergl": [
           {
            "marker": {
             "colorbar": {
              "outlinewidth": 0,
              "ticks": ""
             }
            },
            "type": "scattergl"
           }
          ],
          "scattermapbox": [
           {
            "marker": {
             "colorbar": {
              "outlinewidth": 0,
              "ticks": ""
             }
            },
            "type": "scattermapbox"
           }
          ],
          "scatterpolar": [
           {
            "marker": {
             "colorbar": {
              "outlinewidth": 0,
              "ticks": ""
             }
            },
            "type": "scatterpolar"
           }
          ],
          "scatterpolargl": [
           {
            "marker": {
             "colorbar": {
              "outlinewidth": 0,
              "ticks": ""
             }
            },
            "type": "scatterpolargl"
           }
          ],
          "scatterternary": [
           {
            "marker": {
             "colorbar": {
              "outlinewidth": 0,
              "ticks": ""
             }
            },
            "type": "scatterternary"
           }
          ],
          "surface": [
           {
            "colorbar": {
             "outlinewidth": 0,
             "ticks": ""
            },
            "colorscale": [
             [
              0,
              "#0d0887"
             ],
             [
              0.1111111111111111,
              "#46039f"
             ],
             [
              0.2222222222222222,
              "#7201a8"
             ],
             [
              0.3333333333333333,
              "#9c179e"
             ],
             [
              0.4444444444444444,
              "#bd3786"
             ],
             [
              0.5555555555555556,
              "#d8576b"
             ],
             [
              0.6666666666666666,
              "#ed7953"
             ],
             [
              0.7777777777777778,
              "#fb9f3a"
             ],
             [
              0.8888888888888888,
              "#fdca26"
             ],
             [
              1,
              "#f0f921"
             ]
            ],
            "type": "surface"
           }
          ],
          "table": [
           {
            "cells": {
             "fill": {
              "color": "#EBF0F8"
             },
             "line": {
              "color": "white"
             }
            },
            "header": {
             "fill": {
              "color": "#C8D4E3"
             },
             "line": {
              "color": "white"
             }
            },
            "type": "table"
           }
          ]
         },
         "layout": {
          "annotationdefaults": {
           "arrowcolor": "#2a3f5f",
           "arrowhead": 0,
           "arrowwidth": 1
          },
          "autotypenumbers": "strict",
          "coloraxis": {
           "colorbar": {
            "outlinewidth": 0,
            "ticks": ""
           }
          },
          "colorscale": {
           "diverging": [
            [
             0,
             "#8e0152"
            ],
            [
             0.1,
             "#c51b7d"
            ],
            [
             0.2,
             "#de77ae"
            ],
            [
             0.3,
             "#f1b6da"
            ],
            [
             0.4,
             "#fde0ef"
            ],
            [
             0.5,
             "#f7f7f7"
            ],
            [
             0.6,
             "#e6f5d0"
            ],
            [
             0.7,
             "#b8e186"
            ],
            [
             0.8,
             "#7fbc41"
            ],
            [
             0.9,
             "#4d9221"
            ],
            [
             1,
             "#276419"
            ]
           ],
           "sequential": [
            [
             0,
             "#0d0887"
            ],
            [
             0.1111111111111111,
             "#46039f"
            ],
            [
             0.2222222222222222,
             "#7201a8"
            ],
            [
             0.3333333333333333,
             "#9c179e"
            ],
            [
             0.4444444444444444,
             "#bd3786"
            ],
            [
             0.5555555555555556,
             "#d8576b"
            ],
            [
             0.6666666666666666,
             "#ed7953"
            ],
            [
             0.7777777777777778,
             "#fb9f3a"
            ],
            [
             0.8888888888888888,
             "#fdca26"
            ],
            [
             1,
             "#f0f921"
            ]
           ],
           "sequentialminus": [
            [
             0,
             "#0d0887"
            ],
            [
             0.1111111111111111,
             "#46039f"
            ],
            [
             0.2222222222222222,
             "#7201a8"
            ],
            [
             0.3333333333333333,
             "#9c179e"
            ],
            [
             0.4444444444444444,
             "#bd3786"
            ],
            [
             0.5555555555555556,
             "#d8576b"
            ],
            [
             0.6666666666666666,
             "#ed7953"
            ],
            [
             0.7777777777777778,
             "#fb9f3a"
            ],
            [
             0.8888888888888888,
             "#fdca26"
            ],
            [
             1,
             "#f0f921"
            ]
           ]
          },
          "colorway": [
           "#636efa",
           "#EF553B",
           "#00cc96",
           "#ab63fa",
           "#FFA15A",
           "#19d3f3",
           "#FF6692",
           "#B6E880",
           "#FF97FF",
           "#FECB52"
          ],
          "font": {
           "color": "#2a3f5f"
          },
          "geo": {
           "bgcolor": "white",
           "lakecolor": "white",
           "landcolor": "#E5ECF6",
           "showlakes": true,
           "showland": true,
           "subunitcolor": "white"
          },
          "hoverlabel": {
           "align": "left"
          },
          "hovermode": "closest",
          "mapbox": {
           "style": "light"
          },
          "paper_bgcolor": "white",
          "plot_bgcolor": "#E5ECF6",
          "polar": {
           "angularaxis": {
            "gridcolor": "white",
            "linecolor": "white",
            "ticks": ""
           },
           "bgcolor": "#E5ECF6",
           "radialaxis": {
            "gridcolor": "white",
            "linecolor": "white",
            "ticks": ""
           }
          },
          "scene": {
           "xaxis": {
            "backgroundcolor": "#E5ECF6",
            "gridcolor": "white",
            "gridwidth": 2,
            "linecolor": "white",
            "showbackground": true,
            "ticks": "",
            "zerolinecolor": "white"
           },
           "yaxis": {
            "backgroundcolor": "#E5ECF6",
            "gridcolor": "white",
            "gridwidth": 2,
            "linecolor": "white",
            "showbackground": true,
            "ticks": "",
            "zerolinecolor": "white"
           },
           "zaxis": {
            "backgroundcolor": "#E5ECF6",
            "gridcolor": "white",
            "gridwidth": 2,
            "linecolor": "white",
            "showbackground": true,
            "ticks": "",
            "zerolinecolor": "white"
           }
          },
          "shapedefaults": {
           "line": {
            "color": "#2a3f5f"
           }
          },
          "ternary": {
           "aaxis": {
            "gridcolor": "white",
            "linecolor": "white",
            "ticks": ""
           },
           "baxis": {
            "gridcolor": "white",
            "linecolor": "white",
            "ticks": ""
           },
           "bgcolor": "#E5ECF6",
           "caxis": {
            "gridcolor": "white",
            "linecolor": "white",
            "ticks": ""
           }
          },
          "title": {
           "x": 0.05
          },
          "xaxis": {
           "automargin": true,
           "gridcolor": "white",
           "linecolor": "white",
           "ticks": "",
           "title": {
            "standoff": 15
           },
           "zerolinecolor": "white",
           "zerolinewidth": 2
          },
          "yaxis": {
           "automargin": true,
           "gridcolor": "white",
           "linecolor": "white",
           "ticks": "",
           "title": {
            "standoff": 15
           },
           "zerolinecolor": "white",
           "zerolinewidth": 2
          }
         }
        },
        "title": {
         "text": "Interactive 3D Visualization of GPS Readings\nEnhanced High-Precision GPS Sensor"
        }
       }
      }
     },
     "metadata": {},
     "output_type": "display_data"
    },
    {
     "name": "stdout",
     "output_type": "stream",
     "text": [
      "Sensor: Enhanced High-Precision GPS Sensor\n",
      "Readings are in degrees\n",
      "Sample Simulated GPS Sensor Readings:\n",
      "Latitudes: [37.775148 37.774831 37.775224 37.775662 37.774783]...\n",
      "Longitudes: [-122.419275 -122.419227 -122.41974  -122.419284 -122.419253]...\n",
      "Altitudes: [4.17 4.44 5.75 5.61 4.98]...\n"
     ]
    }
   ],
   "source": [
    "import numpy as np\n",
    "import plotly.express as px\n",
    "import plotly.graph_objects as go\n",
    "\n",
    "# Seed for reproducibility\n",
    "np.random.seed(42)\n",
    "\n",
    "# Enhanced parameters for GPS sensor readings\n",
    "MeanLatitude = 37.7749  # Mean latitude (e.g., approximate latitude of San Francisco)\n",
    "MeanLongitude = -122.4194  # Mean longitude\n",
    "MeanAltitude = 5.0  # Mean altitude for visualization purposes\n",
    "GPSStandardDeviation = 0.0005  # Standard deviation reflecting realistic GPS noise\n",
    "NumberOfReadings = 150  # Number of simulated readings\n",
    "MinLatitude = MeanLatitude - 0.001  # Minimum possible latitude\n",
    "MaxLatitude = MeanLatitude + 0.001  # Maximum possible latitude\n",
    "MinLongitude = MeanLongitude - 0.001  # Minimum possible longitude\n",
    "MaxLongitude = MeanLongitude + 0.001  # Maximum possible longitude\n",
    "SensorName = \"Enhanced High-Precision GPS Sensor\"  # Sensor name\n",
    "Unit = \"degrees\"  # Unit of the GPS readings\n",
    "\n",
    "# Generate simulated GPS sensor readings for latitude, longitude, and altitude\n",
    "raw_latitudes = np.random.normal(MeanLatitude, GPSStandardDeviation, NumberOfReadings)\n",
    "raw_longitudes = np.random.normal(MeanLongitude, GPSStandardDeviation, NumberOfReadings)\n",
    "raw_altitudes = np.random.normal(MeanAltitude, 1.0, NumberOfReadings)  # Simulated altitude variation\n",
    "\n",
    "# Clip readings to realistic ranges and round to 6 decimal places\n",
    "latitudes = np.clip(np.round(raw_latitudes, 6), MinLatitude, MaxLatitude)\n",
    "longitudes = np.clip(np.round(raw_longitudes, 6), MinLongitude, MaxLongitude)\n",
    "altitudes = np.clip(np.round(raw_altitudes, 2), 0, 10)  # Altitude range: 0 to 10 meters\n",
    "\n",
    "# Create an interactive 3D scatter plot\n",
    "fig = px.scatter_3d(\n",
    "    x=latitudes,\n",
    "    y=longitudes,\n",
    "    z=altitudes,\n",
    "    title=f\"Interactive 3D Visualization of GPS Readings\\n{SensorName}\",\n",
    "    labels={\"x\": \"Latitude (degrees)\", \"y\": \"Longitude (degrees)\", \"z\": \"Altitude (meters)\"},\n",
    "    color=altitudes,\n",
    "    color_continuous_scale=\"Viridis\",\n",
    ")\n",
    "\n",
    "# Add the mean point to the plot\n",
    "fig.add_trace(go.Scatter3d(\n",
    "    x=[MeanLatitude],\n",
    "    y=[MeanLongitude],\n",
    "    z=[MeanAltitude],\n",
    "    mode='markers+text',\n",
    "    marker=dict(size=8, color='red', symbol='diamond'),\n",
    "    text=[\"Mean\"],\n",
    "    textposition=\"top center\",\n",
    "    name=\"Mean Location\"\n",
    "))\n",
    "\n",
    "# Update layout for better visualization\n",
    "fig.update_traces(marker=dict(size=5))\n",
    "fig.update_layout(scene=dict(\n",
    "    xaxis_title='Latitude (degrees)',\n",
    "    yaxis_title='Longitude (degrees)',\n",
    "    zaxis_title='Altitude (meters)'\n",
    "))\n",
    "\n",
    "# Show the plot\n",
    "fig.show()\n",
    "\n",
    "# Display additional details\n",
    "print(f\"Sensor: {SensorName}\")\n",
    "print(f\"Readings are in {Unit}\")\n",
    "print(\"Sample Simulated GPS Sensor Readings:\")\n",
    "print(f\"Latitudes: {latitudes[:5]}...\")\n",
    "print(f\"Longitudes: {longitudes[:5]}...\")\n",
    "print(f\"Altitudes: {altitudes[:5]}...\")\n"
   ]
  },
  {
   "cell_type": "code",
   "execution_count": null,
   "metadata": {},
   "outputs": [],
   "source": []
  }
 ],
 "metadata": {
  "colab": {
   "authorship_tag": "ABX9TyPG0sc46d06P+WtzKFSU/8o",
   "provenance": []
  },
  "kernelspec": {
   "display_name": "base",
   "language": "python",
   "name": "python3"
  },
  "language_info": {
   "codemirror_mode": {
    "name": "ipython",
    "version": 3
   },
   "file_extension": ".py",
   "mimetype": "text/x-python",
   "name": "python",
   "nbconvert_exporter": "python",
   "pygments_lexer": "ipython3",
   "version": "3.12.3"
  }
 },
 "nbformat": 4,
 "nbformat_minor": 0
}
